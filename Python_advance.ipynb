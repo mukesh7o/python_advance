{
 "cells": [
  {
   "cell_type": "markdown",
   "metadata": {
    "id": "l0ZzOlyxB-kf"
   },
   "source": [
    "<h1>Python: without numpy or sklearn </h1>"
   ]
  },
  {
   "cell_type": "markdown",
   "metadata": {
    "id": "C0xO8JV9B-ki"
   },
   "source": [
    "<h3> Q1: Given two matrices please print the product of those two matrices </h3>\n",
    "<pre>\n",
    "\n",
    "Ex 1: A   = [[1 3 4]\n",
    "             [2 5 7]\n",
    "             [5 9 6]]\n",
    "      B   = [[1 0 0]\n",
    "             [0 1 0]\n",
    "             [0 0 1]]\n",
    "      A*B = [[1 3 4]\n",
    "             [2 5 7]\n",
    "             [5 9 6]]\n",
    "\n",
    "     \n",
    "Ex 2: A   = [[1 2]\n",
    "             [3 4]]\n",
    "      B   = [[1 2 3 4 5]\n",
    "             [5 6 7 8 9]]\n",
    "      A*B = [[11 14 17 20 23]\n",
    "             [23 30 36 42 51]]\n",
    "             \n",
    "Ex 3: A   = [[1 2]\n",
    "             [3 4]]\n",
    "      B   = [[1 4]\n",
    "             [5 6]\n",
    "             [7 8]\n",
    "             [9 6]]\n",
    "      A*B =Not possible\n",
    "</pre>"
   ]
  },
  {
   "cell_type": "code",
   "execution_count": null,
   "metadata": {
    "colab": {
     "base_uri": "https://localhost:8080/"
    },
    "id": "rnssAfpgB-kj",
    "outputId": "74cf4889-cb40-409d-ae41-d3e98f41f6c7"
   },
   "outputs": [
    {
     "name": "stdout",
     "output_type": "stream",
     "text": [
      "[[1, 3, 4], [2, 5, 7], [5, 9, 6]]\n"
     ]
    }
   ],
   "source": [
    "def matrix(a, b):\n",
    "    if len(a[0]) != len(b):\n",
    "        return print(\"multiplication not possible\")\n",
    "\n",
    "    line = []\n",
    "\n",
    "    fly = len(b[0]) * [0]\n",
    "    for r in range(len(a)):\n",
    "        line.append(fly[:])\n",
    "    for str in range(len(a)):\n",
    "        for clmn in range(len(b[0])):\n",
    "            sum = 0\n",
    "            for k in range(len(a[0])):\n",
    "                sum = sum + a[str][k] * b[k][clmn]\n",
    "            line[str][clmn] = sum\n",
    "    return line\n",
    "wed=[[1,3,4],[2,5,7],[5,9,6]]\n",
    "word=[[1,0,0],[0,1,0],[0,0,1]]\n",
    "\n",
    "print(matrix(wed,word))"
   ]
  },
  {
   "cell_type": "markdown",
   "metadata": {
    "id": "at4VwLggB-kn"
   },
   "source": [
    "<h3> Q2: Select a number randomly with probability proportional to its magnitude from the given array of n elements</h3>\n",
    "\n",
    "consider an experiment, selecting an element from the list A randomly with probability proportional to its magnitude.\n",
    "assume we are doing the same experiment for 100 times with replacement, in each experiment you will print a number that is selected randomly from A.\n",
    "\n",
    "<pre>\n",
    "Ex 1: A = [0 5 27 6 13 28 100 45 10 79]\n",
    "let f(x) denote the number of times x getting selected in 100 experiments.\n",
    "f(100) > f(79) > f(45) > f(28) > f(27) > f(13) > f(10) > f(6) > f(5) > f(0)\n",
    "</pre>"
   ]
  },
  {
   "cell_type": "code",
   "execution_count": null,
   "metadata": {
    "colab": {
     "base_uri": "https://localhost:8080/"
    },
    "id": "B6S2dpBhB-kn",
    "outputId": "bd9708ee-4f73-4c9c-a27b-b1fdccc4e2a7"
   },
   "outputs": [
    {
     "name": "stdout",
     "output_type": "stream",
     "text": [
      "10\n",
      "10\n",
      "100\n",
      "100\n",
      "79\n",
      "79\n",
      "79\n",
      "28\n",
      "45\n",
      "100\n",
      "45\n",
      "100\n",
      "100\n",
      "100\n",
      "27\n",
      "28\n",
      "100\n",
      "79\n",
      "100\n",
      "79\n",
      "45\n",
      "79\n",
      "5\n",
      "100\n",
      "79\n",
      "100\n",
      "45\n",
      "6\n",
      "28\n",
      "45\n",
      "100\n",
      "100\n",
      "10\n",
      "45\n",
      "79\n",
      "45\n",
      "79\n",
      "100\n",
      "27\n",
      "27\n",
      "45\n",
      "100\n",
      "100\n",
      "79\n",
      "45\n",
      "100\n",
      "45\n",
      "79\n",
      "100\n",
      "79\n",
      "27\n",
      "45\n",
      "28\n",
      "79\n",
      "100\n",
      "27\n",
      "100\n",
      "79\n",
      "27\n",
      "13\n",
      "100\n",
      "45\n",
      "79\n",
      "100\n",
      "100\n",
      "100\n",
      "10\n",
      "79\n",
      "100\n",
      "100\n",
      "79\n",
      "5\n",
      "13\n",
      "45\n",
      "100\n",
      "45\n",
      "100\n",
      "100\n",
      "79\n",
      "100\n",
      "100\n",
      "10\n",
      "100\n",
      "100\n",
      "100\n",
      "79\n",
      "27\n",
      "100\n",
      "100\n",
      "100\n",
      "100\n",
      "79\n",
      "79\n",
      "79\n",
      "28\n",
      "13\n",
      "79\n",
      "100\n",
      "100\n",
      "100\n"
     ]
    }
   ],
   "source": [
    "import random\n",
    "from itertools import accumulate\n",
    "import bisect\n",
    "\n",
    "A = [0, 5, 27, 6, 13, 28, 100, 45, 10, 79]\n",
    "A=sorted(A)\n",
    "\n",
    "\n",
    "def propotional_sampling(A, n=100):\n",
    "    sum = 0\n",
    "    for i in range(len(A)):\n",
    "        sum = sum + A[i]\n",
    "\n",
    "    d_dash = []\n",
    "\n",
    "    for j in range(len(A)):\n",
    "        d_dash.append((A[j] / sum))\n",
    "\n",
    "    # cumulative sum\n",
    "\n",
    "    d_bar = [*accumulate(d_dash)]\n",
    "    out = []\n",
    "    for _ in range(n):\n",
    "        i = random.uniform(0.0, 1.0)\n",
    "        idx = bisect.bisect_right(d_bar, i)\n",
    "        print(A[idx])\n",
    "\n",
    "propotional_sampling(A)\n"
   ]
  },
  {
   "cell_type": "markdown",
   "metadata": {
    "id": "D1xQy2WWB-kq"
   },
   "source": [
    "<h3> Q3: Replace the digits in the string with #</h3>\n",
    "\n",
    "consider a string that will have digits in that, we need to remove all the not digits and replace the digits with #\n",
    "<pre>\n",
    "Ex 1: A = 234                Output: ###\n",
    "Ex 2: A = a2b3c4             Output: ###\n",
    "Ex 3: A = abc                Output:   (empty string)\n",
    "Ex 5: A = #2a$#b%c%561#      Output: ####\n",
    "</pre>"
   ]
  },
  {
   "cell_type": "code",
   "execution_count": null,
   "metadata": {
    "colab": {
     "base_uri": "https://localhost:8080/"
    },
    "id": "fxczi2jzB-kr",
    "outputId": "a637422c-f084-4c7c-955f-54c06a8c522f"
   },
   "outputs": [
    {
     "name": "stdout",
     "output_type": "stream",
     "text": [
      "Enter the statement56jkjl89\n",
      "####"
     ]
    }
   ],
   "source": [
    "import re\n",
    "def replace_digit(n):\n",
    "        file=re.findall(\"[0-9]\",n)\n",
    "        for word in file:\n",
    "            print(\"#\",end=\"\")\n",
    "        if file==[]:\n",
    "            print(\"(emty string)\")\n",
    "n=input(\"Enter the statement\")\n",
    "k=replace_digit(n)\n"
   ]
  },
  {
   "cell_type": "markdown",
   "metadata": {
    "id": "j7h0Ywg7B-kw"
   },
   "source": [
    "<h3> Q4: Students marks dashboard</h3>\n",
    "\n",
    "consider the marks list of class students given two lists <br>\n",
    "Students = ['student1','student2','student3','student4','student5','student6','student7','student8','student9','student10'] <br>\n",
    "Marks = [45, 78, 12, 14, 48, 43, 45, 98, 35, 80] <br>\n",
    "from the above two lists the Student[0] got Marks[0],  Student[1] got Marks[1] and so on <br><br>\n",
    "your task is to print the name of students\n",
    "<strong>a. Who got top 5 ranks, in the descending order of marks</strong> <br>\n",
    "<strong>b. Who got least 5 ranks, in the increasing order of marks</strong><br>\n",
    "<strong>d. Who got marks between  &gt;25th percentile &lt;75th percentile, in the increasing order of marks</strong>\n",
    "\n",
    "<pre>\n",
    "Ex 1: \n",
    "Students=['student1','student2','student3','student4','student5','student6','student7','student8','student9','student10'] \n",
    "Marks = [45, 78, 12, 14, 48, 43, 47, 98, 35, 80]\n",
    "a. \n",
    "student8  98\n",
    "student10 80\n",
    "student2  78\n",
    "student5  48\n",
    "student7  47\n",
    "b.\n",
    "student3 12\n",
    "student4 14\n",
    "student9 35\n",
    "student6 43\n",
    "student1 45\n",
    "c.\n",
    "student9 35\n",
    "student6 43\n",
    "student1 45\n",
    "student7 47\n",
    "student5 48\n",
    "</pre>"
   ]
  },
  {
   "cell_type": "code",
   "execution_count": 7,
   "metadata": {
    "colab": {
     "base_uri": "https://localhost:8080/"
    },
    "id": "cxPJgItsB-kx",
    "outputId": "98f07ee8-29f0-4b4d-c329-404989f2bee8"
   },
   "outputs": [
    {
     "name": "stdout",
     "output_type": "stream",
     "text": [
      "\n",
      "Least rank holder\n",
      "stu2 12\n",
      "stu3 14\n",
      "stu8 35\n",
      "stu5 43\n",
      "stu0 45\n",
      "\n",
      "Top rank holder\n",
      "stu7 98\n",
      "stu9 80\n",
      "stu1 78\n",
      "stu4 48\n",
      "stu6 47\n",
      "\n",
      "Rank holder between >25 and <75 percent\n",
      "stu8 35\n",
      "stu5 43\n",
      "stu0 45\n",
      "stu6 47\n",
      "stu4 48\n"
     ]
    }
   ],
   "source": [
    "import operator\n",
    "import itertools\n",
    "def dashbord(n,m):\n",
    "    dic=dict()\n",
    "    for i in range(len(n)):\n",
    "        dic[n[i]]=m[i]\n",
    "    return dic\n",
    "def greater(x,y):\n",
    "    hk=dashbord(x,y)\n",
    "    file=sorted(hk.items(),key=operator.itemgetter(1))\n",
    "    print(\"\\nLeast rank holder\")\n",
    "    for key,value in file[0:5]:\n",
    "        print(key,value)\n",
    "\n",
    "\n",
    "def smaller(x,y):\n",
    "    kl=dashbord(x,y)\n",
    "    file=sorted(kl.items(),key=operator.itemgetter(1),reverse=True)\n",
    "    print(\"\\nTop rank holder\")\n",
    "    for key, value in file[0:5]:\n",
    "        print(key,value)\n",
    "\n",
    "def great_small(x,y):\n",
    "    jk=dashbord(x,y)\n",
    "    file=sorted(jk.items(),key=operator.itemgetter(1))\n",
    "    print(\"\\nRank holder between >25 and <75 percent\")\n",
    "    max,min=100,0\n",
    "    diff=max-min\n",
    "    output=[item for item in file if item[1]>(diff*0.25) and item[1]<(diff*0.75)]\n",
    "    for key,value in output:\n",
    "        print(key,value)\n",
    "\n",
    "value=(\"stu0\",\"stu1\",\"stu2\",\"stu3\",\"stu4\",\"stu5\",\"stu6\",\"stu7\",\"stu8\",\"stu9\")\n",
    "values=(45,78,12,14,48,43,47,98,35,80)\n",
    "greater(value,values)\n",
    "smaller(value,values)\n",
    "great_small(value,values)\n"
   ]
  },
  {
   "cell_type": "markdown",
   "metadata": {
    "id": "qha0OhQHB-k1"
   },
   "source": [
    "<h3> Q5: Find the closest points</h3>\n",
    "\n",
    "consider you have given n data points in the form of list of tuples like S=[(x1,y1),(x2,y2),(x3,y3),(x4,y4),(x5,y5),..,(xn,yn)] and a point P=(p,q) <br> your task is to find 5 closest points(based on cosine distance) in S from P\n",
    "<br>cosine distance between two points (x,y) and (p,q) is defind as $cos^{-1}(\\frac{(x\\cdot p+y\\cdot q)}{\\sqrt(x^2+y^2)\\cdot\\sqrt(p^2+q^2)})$\n",
    "<pre>\n",
    "Ex:\n",
    "\n",
    "S= [(1,2),(3,4),(-1,1),(6,-7),(0, 6),(-5,-8),(-1,-1)(6,0),(1,-1)]\n",
    "P= (3,-4)\n",
    "<img src='https://i.imgur.com/vIFPOcG.jpg', width=300>\n",
    "Output:\n",
    "(6,-7)\n",
    "(1,-1)\n",
    "(6,0)\n",
    "(-5,-8)\n",
    "(-1,-1)\n",
    "</pre>"
   ]
  },
  {
   "cell_type": "code",
   "execution_count": null,
   "metadata": {
    "colab": {
     "base_uri": "https://localhost:8080/"
    },
    "id": "wA5I1g-2B-k2",
    "outputId": "1d3f2c49-0052-4932-b947-0437c9e272f3"
   },
   "outputs": [
    {
     "name": "stdout",
     "output_type": "stream",
     "text": [
      "The first five shortest distance is: \n",
      "(6, -7) 0.06512516333438509\n",
      "(1, -1) 0.14189705460416438\n",
      "(6, 0) 0.9272952180016123\n",
      "(-5, -8) 1.2021004241368467\n",
      "(-1, -1) 1.4288992721907328\n"
     ]
    }
   ],
   "source": [
    "import math\n",
    "import operator\n",
    "def close_point(Q,S):\n",
    "    dic=dict()\n",
    "    for i in S:\n",
    "        x,y=i[0],i[1]\n",
    "        p,q=Q[0],Q[1]\n",
    "        kl = ((math.sqrt(x ** 2 + y ** 2))*(math.sqrt(p**2+q**2)))\n",
    "        lk =((x*p)+(y*q))\n",
    "        file=math.acos(lk/kl)\n",
    "        dic[x,y]=(file)\n",
    "    print(\"The first five shortest distance is: \")\n",
    "    fly=sorted(dic.items(),key=operator.itemgetter(1))\n",
    "    for key,value in fly[0:5]:\n",
    "        print(key,value)\n",
    "A=(3,-4)\n",
    "B=[(1,-1),(3,4),(-1,1),(6,-7),(0,6),(-5,-8),(-1,-1),(6,0),(1,2)]\n",
    "close_point(A,B)"
   ]
  },
  {
   "cell_type": "markdown",
   "metadata": {
    "id": "-g11jeAiB-k5"
   },
   "source": [
    "<h3> Q6: Find Which line separates oranges and apples</h3>\n",
    "consider you have given two set of data points in the form of list of tuples like \n",
    "<pre>\n",
    "Red =[(R11,R12),(R21,R22),(R31,R32),(R41,R42),(R51,R52),..,(Rn1,Rn2)]\n",
    "Blue=[(B11,B12),(B21,B22),(B31,B32),(B41,B42),(B51,B52),..,(Bm1,Bm2)]\n",
    "</pre>\n",
    "and set of line equations(in the string formate, i.e list of strings)\n",
    "<pre>\n",
    "Lines = [a1x+b1y+c1,a2x+b2y+c2,a3x+b3y+c3,a4x+b4y+c4,..,K lines]\n",
    "Note: you need to string parsing here and get the coefficients of x,y and intercept\n",
    "</pre>\n",
    "your task is to for each line that is given print \"YES\"/\"NO\", you will print yes, if all the red points are one side of the line and blue points are other side of the line, otherwise no\n",
    "<pre>\n",
    "Ex:\n",
    "Red= [(1,1),(2,1),(4,2),(2,4), (-1,4)]\n",
    "Blue= [(-2,-1),(-1,-2),(-3,-2),(-3,-1),(1,-3)]\n",
    "Lines=[\"1x+1y+0\",\"1x-1y+0\",\"1x+0y-3\",\"0x+1y-0.5\"]\n",
    "<img src='https://i.imgur.com/DoQf7mE.jpg' width=400>\n",
    "Output:\n",
    "YES\n",
    "NO\n",
    "NO\n",
    "YES\n",
    "</pre>"
   ]
  },
  {
   "cell_type": "code",
   "execution_count": null,
   "metadata": {
    "colab": {
     "base_uri": "https://localhost:8080/"
    },
    "id": "eRxExaTRB-k6",
    "outputId": "e5aeb6a4-bef7-49e6-8379-5a8f9ca12c32"
   },
   "outputs": [
    {
     "name": "stdout",
     "output_type": "stream",
     "text": [
      "True\n",
      "false\n",
      "false\n",
      "True\n"
     ]
    }
   ],
   "source": [
    "import math\n",
    "import re\n",
    "lst=list()\n",
    "st=list()\n",
    "def positive(R,B,L):\n",
    "    for space in L:\n",
    "        lst = list()\n",
    "        a,b,c= re.findall(\"[0-9.\\-\\+]+\",space)\n",
    "        u,v,j=float(a),float(b),float(c)\n",
    "        for line in R:\n",
    "            x, y = line[0], line[1]\n",
    "            z = x,y\n",
    "            if y*v+u*x>j:\n",
    "                lst.append(z)\n",
    "            else:\n",
    "                continue\n",
    "        for word in B:\n",
    "            d,e = word[0], word[1]\n",
    "            w = d,e\n",
    "            if d*a+e*b>c:\n",
    "                st.append(w)\n",
    "            else:\n",
    "                continue\n",
    "        if lst==R and st==B:\n",
    "            print(\"False\")\n",
    "        elif lst==R:\n",
    "            print(\"True\")\n",
    "        elif lst==B:\n",
    "            print(\"True\")\n",
    "        else:\n",
    "            print(\"false\")\n",
    "Red=[(1,1),(2,1),(4,2),(2,4),(-1,4)]\n",
    "Blue=[(-2,-1),(-1,-2),(-3,-2),(-3,-1),(1,-3)]\n",
    "Lines=[\"1x+1y=0\",\"1x-1y=0\",\"1x+0y=3\",\"0x+1y=0.5\"]\n",
    "positive(Red,Blue,Lines)"
   ]
  },
  {
   "cell_type": "markdown",
   "metadata": {
    "id": "9OBpURbNB-k9"
   },
   "source": [
    "<h3> Q7: Filling the missing values in the specified formate</h3>\n",
    "You will be given a string with digits and '\\_'(missing value) symbols you have to replace the '\\_' symbols as explained \n",
    "<pre>\n",
    "Ex 1: _, _, _, 24 ==> 24/4, 24/4, 24/4, 24/4 i.e we. have distributed the 24 equally to all 4 places <br>\n",
    "Ex 2: 40, _, _, _, 60 ==> (60+40)/5,(60+40)/5,(60+40)/5,(60+40)/5,(60+40)/5 ==> 20, 20, 20, 20, 20 i.e. the sum of (60+40) is distributed qually to all 5 places<br>\n",
    "Ex 3: 80, _, _, _, _  ==> 80/5,80/5,80/5,80/5,80/5 ==> 16, 16, 16, 16, 16 i.e. the 80 is distributed qually to all 5 missing values that are right to it<br>\n",
    "Ex 4: _, _, 30, _, _, _, 50, _, _  \n",
    "==> we will fill the missing values from left to right \n",
    "    a. first we will distribute the 30 to left two missing values (10, 10, 10, _, _, _, 50, _, _)\n",
    "    b. now distribute the sum (10+50) missing values in between (10, 10, 12, 12, 12, 12, 12, _, _) \n",
    "    c. now we will distribute 12 to right side missing values (10, 10, 12, 12, 12, 12, 4, 4, 4)\n",
    "</pre>\n",
    "for a given string with comma seprate values, which will have both missing values numbers like ex: \"_, _, x, _, _, _\"\n",
    "you need fill the missing values\n",
    "\n",
    "Q: your program reads a string like ex: \"_, _, x, _, _, _\" and returns the filled sequence\n",
    "\n",
    "Ex: \n",
    "<pre>\n",
    "Input1: \"_,_,_,24\"\n",
    "Output1: 6,6,6,6\n",
    "\n",
    "Input2: \"40,_,_,_,60\"\n",
    "Output2: 20,20,20,20,20\n",
    "\n",
    "Input3: \"80,_,_,_,_\"\n",
    "Output3: 16,16,16,16,16\n",
    "\n",
    "Input4: \"_,_,30,_,_,_,50,_,_\"\n",
    "Output4: 10,10,12,12,12,12,4,4,4\n",
    "</pre>\n",
    "\n"
   ]
  },
  {
   "cell_type": "code",
   "execution_count": null,
   "metadata": {
    "colab": {
     "base_uri": "https://localhost:8080/"
    },
    "id": "nZmpzHs_B-k-",
    "outputId": "0dda83ea-f904-4ac8-a35e-7020c06af877"
   },
   "outputs": [
    {
     "name": "stdout",
     "output_type": "stream",
     "text": [
      "[10.0, 10.0, 12.0, 12.0, 12.0, 12.0, 4.0, 4.0, 4.0]\n"
     ]
    }
   ],
   "source": [
    "import copy\n",
    "def missing(o):\n",
    "    a = o.split(',')\n",
    "    p=len(a)\n",
    "    j=1\n",
    "    for i in range(len(a)):\n",
    "        if a[i]=='_':\n",
    "            j+=1\n",
    "        else:\n",
    "            for h in range(j):\n",
    "              a[h]=(float(a[i])/(j))\n",
    "            word=a[h]\n",
    "            break\n",
    "    for l in range(j,len(a)):\n",
    "        if a[l]=='_':\n",
    "            j+=1\n",
    "        else:\n",
    "            for k in range(i,j+1):\n",
    "                a[k]=(word+float(a[j]))/(j-i+1)\n",
    "            line=a[k]\n",
    "            break\n",
    "    for d in range(l,len(a)):\n",
    "        a[d]=(line/(p-j))\n",
    "    print(a)\n",
    "value=\"_,_,30,_,_,_,50,_,_\"\n",
    "missing(value)"
   ]
  },
  {
   "cell_type": "markdown",
   "metadata": {
    "id": "RBz4pzlfB-lB"
   },
   "source": [
    "<h3> Q8: Filling the missing values in the specified formate</h3>\n",
    "You will be given a list of lists, each sublist will be of length 2 i.e. [[x,y],[p,q],[l,m]..[r,s]]\n",
    "consider its like a martrix of n rows and two columns\n",
    "1. the first column F will contain only 5 uniques values (F1, F2, F3, F4, F5)\n",
    "2. the second column S will contain only 3 uniques values (S1, S2, S3)\n",
    "<pre>\n",
    "your task is to find\n",
    "a. Probability of P(F=F1|S==S1), P(F=F1|S==S2), P(F=F1|S==S3)\n",
    "b. Probability of P(F=F2|S==S1), P(F=F2|S==S2), P(F=F2|S==S3)\n",
    "c. Probability of P(F=F3|S==S1), P(F=F3|S==S2), P(F=F3|S==S3)\n",
    "d. Probability of P(F=F4|S==S1), P(F=F4|S==S2), P(F=F4|S==S3)\n",
    "e. Probability of P(F=F5|S==S1), P(F=F5|S==S2), P(F=F5|S==S3)\n",
    "</pre>\n",
    "Ex:\n",
    "\n",
    "<pre>\n",
    "[[F1,S1],[F2,S2],[F3,S3],[F1,S2],[F2,S3],[F3,S2],[F2,S1],[F4,S1],[F4,S3],[F5,S1]]\n",
    "\n",
    "a. P(F=F1|S==S1)=1/4, P(F=F1|S==S2)=1/3, P(F=F1|S==S3)=0/3\n",
    "b. P(F=F2|S==S1)=1/4, P(F=F2|S==S2)=1/3, P(F=F2|S==S3)=1/3\n",
    "c. P(F=F3|S==S1)=0/4, P(F=F3|S==S2)=1/3, P(F=F3|S==S3)=1/3\n",
    "d. P(F=F4|S==S1)=1/4, P(F=F4|S==S2)=0/3, P(F=F4|S==S3)=1/3\n",
    "e. P(F=F5|S==S1)=1/4, P(F=F5|S==S2)=0/3, P(F=F5|S==S3)=0/3\n",
    "</pre>\n",
    "\n",
    "\n"
   ]
  },
  {
   "cell_type": "code",
   "execution_count": null,
   "metadata": {
    "colab": {
     "base_uri": "https://localhost:8080/"
    },
    "id": "e-1giz1MB-lC",
    "outputId": "55b86230-d3c6-4a00-8543-075b5482547c"
   },
   "outputs": [
    {
     "name": "stdout",
     "output_type": "stream",
     "text": [
      "Probability of P(F=F1|S==S1) = 0.25\n",
      "Probability of P(F=F1|S==S2) = 0.3333333333333333\n",
      "Probability of P(F=F1|S==S3) = 0.0\n",
      "Probability of P(F=F2|S==S1) = 0.25\n",
      "Probability of P(F=F2|S==S2) = 0.3333333333333333\n",
      "Probability of P(F=F2|S==S3) = 0.3333333333333333\n",
      "Probability of P(F=F3|S==S1) = 0.0\n",
      "Probability of P(F=F3|S==S2) = 0.3333333333333333\n",
      "Probability of P(F=F3|S==S3) = 0.3333333333333333\n",
      "Probability of P(F=F4|S==S1) = 0.25\n",
      "Probability of P(F=F4|S==S2) = 0.0\n",
      "Probability of P(F=F4|S==S3) = 0.3333333333333333\n",
      "Probability of P(F=F5|S==S1) = 0.25\n",
      "Probability of P(F=F5|S==S2) = 0.0\n",
      "Probability of P(F=F5|S==S3) = 0.0\n"
     ]
    }
   ],
   "source": [
    "A = [['F1','S1'],['F2','S2'],['F3','S3'],['F1','S2'],['F2','S3'],['F3','S2'],['F2','S1'],['F4','S1'],['F4','S3'],['F5','S1']]\n",
    "\n",
    "dic1 = {'F1S1':0,'F2S1':0,'F3S1':0,'F4S1':0,'F5S1':0,'F1S2':0,'F2S2':0,'F3S2':0,'F4S2':0,'F5S2':0,'F1S3':0,'F2S3':0,'F3S3':0,'F4S3':0,'F5S3':0}\n",
    "\n",
    "dic2= {'S1':0,'S2':0,'S3':0}\n",
    "for i in range(len(A)):\n",
    "    if(A[i][0]=='F1'and A[i][1]=='S1'):\n",
    "            dic1['F1S1'] = dic1['F1S1']+1\n",
    "            dic2['S1'] = dic2['S1']+1\n",
    "    if(A[i][0]=='F1'and A[i][1]=='S2'):\n",
    "            dic1['F1S2'] = dic1['F1S2']+1\n",
    "            dic2['S2'] = dic2['S2']+1\n",
    "    if(A[i][0]=='F1'and A[i][1]=='S3'):\n",
    "            dic1['F1S3'] = dic1['F1S3']+1\n",
    "            dic2['S3'] = dic2['S3']+1\n",
    "    if(A[i][0]=='F2'and A[i][1]=='S1'):\n",
    "            dic1['F2S1'] = dic1['F2S1']+1\n",
    "            dic2['S1'] = dic2['S1']+1\n",
    "    if(A[i][0]=='F2'and A[i][1]=='S2'):\n",
    "            dic1['F2S2'] = dic1['F2S2']+1\n",
    "            dic2['S2'] = dic2['S2']+1\n",
    "    if(A[i][0]=='F2'and A[i][1]=='S3'):\n",
    "            dic1['F2S3'] = dic1['F2S3']+1\n",
    "            dic2['S3'] = dic2['S3']+1\n",
    "    if(A[i][0]=='F3'and A[i][1]=='S1'):\n",
    "            dic1['F3S1'] = dic1['F3S1']+1\n",
    "            dic2['S1'] = dic2['S1']+1\n",
    "    if(A[i][0]=='F3'and A[i][1]=='S2'):\n",
    "            dic1['F3S2'] = dic1['F3S2']+1\n",
    "            dic2['S2'] = dic2['S2']+1\n",
    "    if(A[i][0]=='F3'and A[i][1]=='S3'):\n",
    "            dic1['F3S3'] = dic1['F3S3']+1\n",
    "            dic2['S3'] = dic2['S3']+1\n",
    "    if(A[i][0]=='F4'and A[i][1]=='S1'):\n",
    "            dic1['F4S1'] = dic1['F4S1']+1\n",
    "            dic2['S1'] = dic2['S1']+1\n",
    "    if(A[i][0]=='F4'and A[i][1]=='S2'):\n",
    "            dic1['F4S2'] = dic1['F4S2']+1\n",
    "            dic2['S2'] = dic2['S2']+1\n",
    "    if(A[i][0]=='F4'and A[i][1]=='S3'):\n",
    "            dic1['F4S3'] = dic1['F4S3']+1\n",
    "            dic2['S3'] = dic2['S3']+1\n",
    "    if(A[i][0]=='F5'and A[i][1]=='S1'):\n",
    "            dic1['F5S1'] = dic1['F5S1']+1\n",
    "            dic2['S1'] = dic2['S1']+1\n",
    "    if(A[i][0]=='F5'and A[i][1]=='S2'):\n",
    "            dic1['F5S2'] = dic1['F5S2']+1\n",
    "            dic2['S2'] = dic2['S2']+1\n",
    "    if(A[i][0]=='F5'and A[i][1]=='S3'):\n",
    "            dic1['F5S3'] = dic1['F5S3']+1\n",
    "            dic2['S3'] = dic2['S3']+1\n",
    "print('Probability of P(F=F1|S==S1) =',(dic1['F1S1']/dic2['S1']))\n",
    "print('Probability of P(F=F1|S==S2) =',(dic1['F1S2']/dic2['S2']))\n",
    "print('Probability of P(F=F1|S==S3) =',(dic1['F1S3']/dic2['S3']))\n",
    "print('Probability of P(F=F2|S==S1) =',(dic1['F2S1']/dic2['S1']))\n",
    "print('Probability of P(F=F2|S==S2) =',(dic1['F2S2']/dic2['S2']))\n",
    "print('Probability of P(F=F2|S==S3) =',(dic1['F2S3']/dic2['S3']))\n",
    "print('Probability of P(F=F3|S==S1) =',(dic1['F3S1']/dic2['S1']))\n",
    "print('Probability of P(F=F3|S==S2) =',(dic1['F3S2']/dic2['S2']))\n",
    "print('Probability of P(F=F3|S==S3) =',(dic1['F3S3']/dic2['S3']))\n",
    "print('Probability of P(F=F4|S==S1) =',(dic1['F4S1']/dic2['S1']))\n",
    "print('Probability of P(F=F4|S==S2) =',(dic1['F4S2']/dic2['S2']))\n",
    "print('Probability of P(F=F4|S==S3) =',(dic1['F4S3']/dic2['S3']))\n",
    "print('Probability of P(F=F5|S==S1) =',(dic1['F5S1']/dic2['S1']))\n",
    "print('Probability of P(F=F5|S==S2) =',(dic1['F5S2']/dic2['S2']))\n",
    "print('Probability of P(F=F5|S==S3) =',(dic1['F5S3']/dic2['S3']))"
   ]
  },
  {
   "cell_type": "markdown",
   "metadata": {
    "id": "n4HS87QmB-lF"
   },
   "source": [
    "<h3> Q9: Given two sentances S1, S2</h3>\n",
    "You will be given two sentances S1, S2 your task is to find \n",
    "<pre>\n",
    "a. Number of common words between S1, S2\n",
    "b. Words in S1 but not in S2\n",
    "c. Words in S2 but not in S1\n",
    "</pre>\n",
    "\n",
    "Ex: \n",
    "<pre>\n",
    "S1= \"the first column F will contain only 5 uniques values\"\n",
    "S2= \"the second column S will contain only 3 uniques values\"\n",
    "Output:\n",
    "a. 7\n",
    "b. ['first','F','5']\n",
    "c. ['second','S','3']\n",
    "</pre>"
   ]
  },
  {
   "cell_type": "code",
   "execution_count": null,
   "metadata": {
    "colab": {
     "base_uri": "https://localhost:8080/"
    },
    "id": "Ez7hlHK0B-lG",
    "outputId": "945235fc-c8a2-4f5f-c0a6-fb2fa271a034"
   },
   "outputs": [
    {
     "name": "stdout",
     "output_type": "stream",
     "text": [
      "7\n",
      "['first', 'F', '5']\n",
      "['second', 'S', '3']\n"
     ]
    }
   ],
   "source": [
    "def string_features(A,B):\n",
    "    l = S1.split()\n",
    "    q=S2.split()\n",
    "    lst=list()\n",
    "    for f in l:\n",
    "        if f not in q:\n",
    "            lst.append(f)\n",
    "    df=list()\n",
    "    for a in q:\n",
    "        if a not in l:\n",
    "            df.append(a)\n",
    "    r=0\n",
    "    for o in l:\n",
    "        if o in q:\n",
    "            r+=1\n",
    "    return r,lst,df\n",
    "S1= \"the first column F will contain only 5 uniques values \"\n",
    "S2= \"the second column S will contain only 3 uniques values \"\n",
    "Q,W,E= string_features(S1,S2)\n",
    "print(Q)\n",
    "print(W)\n",
    "print(E)"
   ]
  },
  {
   "cell_type": "markdown",
   "metadata": {
    "id": "XefXVEjCB-lI"
   },
   "source": [
    "<h3> Q10: Given two sentances S1, S2</h3>\n",
    "You will be given a list of lists, each sublist will be of length 2 i.e. [[x,y],[p,q],[l,m]..[r,s]]\n",
    "consider its like a martrix of n rows and two columns\n",
    "\n",
    "a. the first column Y will contain interger values <br>\n",
    "b. the second column $Y_{score}$ will be having float values <br>\n",
    "Your task is to find the value of $f(Y,Y_{score}) = -1*\\frac{1}{n}\\Sigma_{for each Y,Y_{score} pair}(Ylog10(Y_{score})+(1-Y)log10(1-Y_{score}))$ here n is the number of rows in the matrix\n",
    "<pre>\n",
    "Ex:\n",
    "[[1, 0.4], [0, 0.5], [0, 0.9], [0, 0.3], [0, 0.6], [1, 0.1], [1, 0.9], [1, 0.8]]\n",
    "output:\n",
    "0.4243099\n",
    "</pre>\n",
    "$\\frac{-1}{8}\\cdot((1\\cdot log_{10}(0.4)+0\\cdot log_{10}(0.6))+(0\\cdot log_{10}(0.5)+1\\cdot log_{10}(0.5)) + ... + (1\\cdot log_{10}(0.8)+0\\cdot log_{10}(0.2)) )$"
   ]
  },
  {
   "cell_type": "code",
   "execution_count": null,
   "metadata": {
    "colab": {
     "base_uri": "https://localhost:8080/"
    },
    "id": "N9zkagyNB-lJ",
    "outputId": "fad2f301-f484-40f9-c332-86efeb7f43ee"
   },
   "outputs": [
    {
     "name": "stdout",
     "output_type": "stream",
     "text": [
      "0.42430993457031635\n"
     ]
    }
   ],
   "source": [
    "import math\n",
    "k= [[1, 0.4], [0, 0.5], [0, 0.9], [0, 0.3], [0, 0.6], [1, 0.1], [1, 0.9], [1, 0.8]]\n",
    "fly=0\n",
    "for i in k:\n",
    "    a=i[0]\n",
    "    b=i[1]\n",
    "    fly+= (a*(math.log10(b))+((1-a)*(math.log10(1-(b)))))\n",
    "value=(((fly)/8)*(-1))\n",
    "print(value)\n"
   ]
  }
 ],
 "metadata": {
  "colab": {
   "collapsed_sections": [],
   "name": "Copy of 1.Python Assignment.ipynb",
   "provenance": []
  },
  "kernelspec": {
   "display_name": "Python 3",
   "language": "python",
   "name": "python3"
  },
  "language_info": {
   "codemirror_mode": {
    "name": "ipython",
    "version": 3
   },
   "file_extension": ".py",
   "mimetype": "text/x-python",
   "name": "python",
   "nbconvert_exporter": "python",
   "pygments_lexer": "ipython3",
   "version": "3.8.3"
  }
 },
 "nbformat": 4,
 "nbformat_minor": 1
}
